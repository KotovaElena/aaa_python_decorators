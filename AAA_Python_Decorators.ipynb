{
  "cells": [
    {
      "cell_type": "markdown",
      "id": "11a22a53",
      "metadata": {
        "id": "11a22a53"
      },
      "source": [
        "# Дектораторы\n",
        "\n",
        "В этом домашнем задании мы напишем собственные дектораторы, которые будут менять системные объекты. Но для начала мы с вами познакомимся с функцией `write`."
      ]
    },
    {
      "cell_type": "code",
      "execution_count": 1,
      "id": "2c2dc3b0",
      "metadata": {
        "colab": {
          "base_uri": "https://localhost:8080/"
        },
        "id": "2c2dc3b0",
        "outputId": "80f89ed9-87b9-4d47-e96e-c486749ff121"
      },
      "outputs": [
        {
          "output_type": "stream",
          "name": "stdout",
          "text": [
            "Hello, my friend!"
          ]
        }
      ],
      "source": [
        "import sys\n",
        "\n",
        "\n",
        "sys.stdout.write('Hello, my friend!')"
      ]
    },
    {
      "cell_type": "markdown",
      "id": "23c92635",
      "metadata": {
        "id": "23c92635"
      },
      "source": [
        "Это метод объектов file-like классов, то есть классов, которые реализуют семантику \"Меня можно создать, из меня можно прочитать и в меня можно записать\".\n",
        "\n",
        "Самый главный пример такого объекта -- объект `file`, являющийся результатом вызова фукнции `open()`. Для простоты и универсальности взаимодействия, стандартный ввод и стандартный вывод тоже являются файлами, из которых можно читать и в которые можно писать. "
      ]
    },
    {
      "cell_type": "code",
      "execution_count": 2,
      "id": "0ce62055",
      "metadata": {
        "id": "0ce62055"
      },
      "outputs": [],
      "source": [
        "output = open(\"./some_test_data.txt\", 'w')"
      ]
    },
    {
      "cell_type": "code",
      "execution_count": 3,
      "id": "302f574f",
      "metadata": {
        "colab": {
          "base_uri": "https://localhost:8080/"
        },
        "id": "302f574f",
        "outputId": "bd026cff-0c72-4821-8c56-eee1599e350b"
      },
      "outputs": [
        {
          "output_type": "execute_result",
          "data": {
            "text/plain": [
              "3"
            ]
          },
          "metadata": {},
          "execution_count": 3
        }
      ],
      "source": [
        "output.write('123')"
      ]
    },
    {
      "cell_type": "code",
      "execution_count": 4,
      "id": "d08c53b4",
      "metadata": {
        "id": "d08c53b4"
      },
      "outputs": [],
      "source": [
        "output.close()"
      ]
    },
    {
      "cell_type": "markdown",
      "id": "b3bcebad",
      "metadata": {
        "id": "b3bcebad"
      },
      "source": [
        "Как вы могли заметить, функция возвращает число записанных байт. Это важная часть контракта, которую нужно поддержать, если вы хотите как-то подменять эту функцию."
      ]
    },
    {
      "cell_type": "markdown",
      "id": "23b94491",
      "metadata": {
        "id": "23b94491"
      },
      "source": [
        "## Задача 1"
      ]
    },
    {
      "cell_type": "markdown",
      "id": "1eb22a2f",
      "metadata": {
        "id": "1eb22a2f"
      },
      "source": [
        "Для начала, давайте подменим метод `write` у объекта `sys.stdin` на такую функцию, которая перед каждым вызовом оригинальной функции записи данных в `stdout` допечатывает к тексту текущую метку времени."
      ]
    },
    {
      "cell_type": "code",
      "source": [
        "from datetime import datetime"
      ],
      "metadata": {
        "id": "y2G95-Qshy25"
      },
      "id": "y2G95-Qshy25",
      "execution_count": 5,
      "outputs": []
    },
    {
      "cell_type": "code",
      "execution_count": 6,
      "id": "732073b9",
      "metadata": {
        "id": "732073b9"
      },
      "outputs": [],
      "source": [
        "original_write = sys.stdout.write\n",
        "\n",
        "def my_write(string_text):\n",
        "    current_datetime = datetime.now().strftime('%Y-%m-%d %H:%M:%S')\n",
        "    if string_text != '\\n':\n",
        "        return original_write(f'[{current_datetime}]: {string_text} \\n')        \n",
        "sys.stdout.write = my_write"
      ]
    },
    {
      "cell_type": "code",
      "execution_count": 7,
      "id": "d8f650f6",
      "metadata": {
        "id": "d8f650f6",
        "colab": {
          "base_uri": "https://localhost:8080/"
        },
        "outputId": "fdc56dae-5672-48f5-d51f-423c966b03e9"
      },
      "outputs": [
        {
          "output_type": "stream",
          "name": "stdout",
          "text": [
            "[2022-11-23 07:44:53]: 1, 2, 3 \n"
          ]
        }
      ],
      "source": [
        "print('1, 2, 3')"
      ]
    },
    {
      "cell_type": "code",
      "execution_count": 8,
      "id": "37617332",
      "metadata": {
        "id": "37617332"
      },
      "outputs": [],
      "source": [
        "sys.stdout.write = original_write"
      ]
    },
    {
      "cell_type": "code",
      "source": [
        "print('1, 2, 3')"
      ],
      "metadata": {
        "colab": {
          "base_uri": "https://localhost:8080/"
        },
        "id": "6_BQS3UcXhY4",
        "outputId": "4123eabc-3ac3-4937-e7fe-3346284844d8"
      },
      "id": "6_BQS3UcXhY4",
      "execution_count": 9,
      "outputs": [
        {
          "output_type": "stream",
          "name": "stdout",
          "text": [
            "1, 2, 3\n"
          ]
        }
      ]
    },
    {
      "cell_type": "markdown",
      "id": "3c5e22b6",
      "metadata": {
        "id": "3c5e22b6"
      },
      "source": [
        "Вывод должен был бы быть примерно таким:"
      ]
    },
    {
      "cell_type": "markdown",
      "id": "e62d012d",
      "metadata": {
        "id": "e62d012d"
      },
      "source": [
        "```\n",
        "[2021-12-05 12:00:00]: 1, 2, 3\n",
        "```"
      ]
    },
    {
      "cell_type": "markdown",
      "id": "903fcee1",
      "metadata": {
        "id": "903fcee1"
      },
      "source": [
        "## Задача 2\n",
        "\n",
        "Упакуйте только что написанный код в декторатор. Весь вывод фукнции должен быть помечен временными метками так, как видно выше."
      ]
    },
    {
      "cell_type": "code",
      "execution_count": 10,
      "id": "5804423b",
      "metadata": {
        "id": "5804423b"
      },
      "outputs": [],
      "source": [
        "def timed_output(function):\n",
        "    def wrapper(*args, **kwargs):\n",
        "        sys.stdout.write = my_write\n",
        "        result = function(*args, **kwargs)\n",
        "        sys.stdout.write = original_write\n",
        "        return result\n",
        "    return wrapper"
      ]
    },
    {
      "cell_type": "code",
      "execution_count": 11,
      "id": "f43373a5",
      "metadata": {
        "id": "f43373a5"
      },
      "outputs": [],
      "source": [
        "@timed_output\n",
        "def print_greeting(name):\n",
        "    print(f'Hello, {name}!')"
      ]
    },
    {
      "cell_type": "code",
      "execution_count": 12,
      "id": "6a2283db",
      "metadata": {
        "id": "6a2283db",
        "outputId": "5d91bb18-f4ca-4e35-f2a1-ae1611155b42",
        "colab": {
          "base_uri": "https://localhost:8080/"
        }
      },
      "outputs": [
        {
          "output_type": "stream",
          "name": "stdout",
          "text": [
            "[2022-11-23 07:44:53]: Hello, Nikita! \n"
          ]
        }
      ],
      "source": [
        "print_greeting(\"Nikita\")"
      ]
    },
    {
      "cell_type": "markdown",
      "id": "37fad5fd",
      "metadata": {
        "id": "37fad5fd"
      },
      "source": [
        "Вывод должен быть похож на следующий:\n",
        "\n",
        "```\n",
        "[2021-12-05 12:00:00]: Hello, Nikita!\n",
        "```"
      ]
    },
    {
      "cell_type": "markdown",
      "id": "8a3aee6d",
      "metadata": {
        "id": "8a3aee6d"
      },
      "source": [
        "## Задача 3\n",
        "\n",
        "Напишите декторатор, который будет перенаправлять вывод фукнции в файл. \n",
        "\n",
        "Подсказка: вы можете заменить объект sys.stdout каким-нибудь другим объектом."
      ]
    },
    {
      "cell_type": "code",
      "source": [
        "from functools import wraps"
      ],
      "metadata": {
        "id": "EyaajkvncjDa"
      },
      "id": "EyaajkvncjDa",
      "execution_count": 13,
      "outputs": []
    },
    {
      "cell_type": "code",
      "execution_count": 14,
      "id": "de733186",
      "metadata": {
        "id": "de733186"
      },
      "outputs": [],
      "source": [
        "def redirect_output(filepath):\n",
        "    def out_wrapper(function):\n",
        "        @wraps(function)\n",
        "        def in_wrapper(*args, **kwargs):\n",
        "            tmp_stdout = sys.stdout\n",
        "            with open(filepath, \"w\") as f:\n",
        "                sys.stdout = f\n",
        "                result = function(*args, **kwargs)\n",
        "            sys.stdout = tmp_stdout\n",
        "            return result\n",
        "        return in_wrapper\n",
        "    return out_wrapper"
      ]
    },
    {
      "cell_type": "code",
      "execution_count": 15,
      "id": "37e01742",
      "metadata": {
        "id": "37e01742"
      },
      "outputs": [],
      "source": [
        "@redirect_output('./function_output.txt')\n",
        "def calculate():\n",
        "    for power in range(1, 5):\n",
        "        for num in range(1, 20):\n",
        "            print(num ** power, end=' ')\n",
        "        print()"
      ]
    },
    {
      "cell_type": "code",
      "execution_count": 16,
      "id": "e892f124",
      "metadata": {
        "id": "e892f124"
      },
      "outputs": [],
      "source": [
        "calculate()"
      ]
    },
    {
      "cell_type": "code",
      "execution_count": 17,
      "id": "ac06c89e",
      "metadata": {
        "id": "ac06c89e",
        "outputId": "ed58110e-2fd9-4883-aaab-255f2b52d10c",
        "colab": {
          "base_uri": "https://localhost:8080/"
        }
      },
      "outputs": [
        {
          "output_type": "stream",
          "name": "stdout",
          "text": [
            "1 2 3 4 5 6 7 8 9 10 11 12 13 14 15 16 17 18 19 \n",
            "1 4 9 16 25 36 49 64 81 100 121 144 169 196 225 256 289 324 361 \n",
            "1 8 27 64 125 216 343 512 729 1000 1331 1728 2197 2744 3375 4096 4913 5832 6859 \n",
            "1 16 81 256 625 1296 2401 4096 6561 10000 14641 20736 28561 38416 50625 65536 83521 104976 130321 \n"
          ]
        }
      ],
      "source": [
        "%cat function_output.txt"
      ]
    }
  ],
  "metadata": {
    "kernelspec": {
      "display_name": "Python 3 (ipykernel)",
      "language": "python",
      "name": "python3"
    },
    "language_info": {
      "codemirror_mode": {
        "name": "ipython",
        "version": 3
      },
      "file_extension": ".py",
      "mimetype": "text/x-python",
      "name": "python",
      "nbconvert_exporter": "python",
      "pygments_lexer": "ipython3",
      "version": "3.9.9"
    },
    "colab": {
      "provenance": []
    }
  },
  "nbformat": 4,
  "nbformat_minor": 5
}